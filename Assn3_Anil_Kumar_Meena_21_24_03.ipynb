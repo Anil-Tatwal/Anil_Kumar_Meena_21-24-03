{
 "cells": [
  {
   "cell_type": "markdown",
   "metadata": {
    "id": "T4cCwtwNXfaX"
   },
   "source": [
    "#1. Write a program to input two numbers and perform their addition"
   ]
  },
  {
   "cell_type": "code",
   "execution_count": null,
   "metadata": {
    "colab": {
     "base_uri": "https://localhost:8080/"
    },
    "id": "jjfUemaeWJCd",
    "outputId": "5246c8ae-1bf3-4cd7-c788-d001dcfa64e3"
   },
   "outputs": [
    {
     "name": "stdout",
     "output_type": "stream",
     "text": [
      "enter the first nummber: 5\n",
      "enter the second nummber: 90\n",
      "95\n"
     ]
    }
   ],
   "source": [
    "x = int(input(\"enter the first nummber: \"))\n",
    "y= int(input(\"enter the second nummber: \"))\n",
    "print(x+y)\n"
   ]
  },
  {
   "cell_type": "markdown",
   "metadata": {
    "id": "rBFBLBeNXpjh"
   },
   "source": [
    "#2. Write a program to input marks and calculate the grade of a student as per the DIAT norms."
   ]
  },
  {
   "cell_type": "code",
   "execution_count": null,
   "metadata": {
    "colab": {
     "base_uri": "https://localhost:8080/"
    },
    "id": "tYplLQ48Wvkh",
    "outputId": "d1ef9d9a-b868-489e-d5b4-42f82dae8ee5"
   },
   "outputs": [
    {
     "name": "stdout",
     "output_type": "stream",
     "text": [
      "enter the marks obtained: 90\n",
      "grade Obtained : A+\n"
     ]
    }
   ],
   "source": [
    "x = int(input(\"enter the marks obtained: \"))\n",
    "if(x<0 or x>100):\n",
    "  print(\"Invalid Input\")\n",
    "elif (x>90 and x<=100):\n",
    "  print(\"grade Obtained : O\")\n",
    "elif (x>80 and x<=90):\n",
    "  print(\"grade Obtained : A+\")\n",
    "elif (x>70 and x<=80):\n",
    "  print(\"grade Obtained : A\")\n",
    "elif (x>60 and x<=70):\n",
    "  print(\"grade Obtained : B+\")\n",
    "elif (x>50 and x<=60):\n",
    "  print(\"grade Obtained : B\")\n",
    "elif (x>=40 and x<=50):\n",
    "  print(\"grade Obtained : C\")\n",
    "else:\n",
    "  print(\"grade Obtained : F\")"
   ]
  },
  {
   "cell_type": "markdown",
   "metadata": {
    "id": "CS_GDyRo7YYT"
   },
   "source": [
    "#3. Write a program to find largest among 3 numbers"
   ]
  },
  {
   "cell_type": "code",
   "execution_count": null,
   "metadata": {
    "colab": {
     "base_uri": "https://localhost:8080/"
    },
    "id": "Ds7sAxMg4OJi",
    "outputId": "cbd8c2fe-a47d-4662-9959-51ef46e46fec"
   },
   "outputs": [
    {
     "name": "stdout",
     "output_type": "stream",
     "text": [
      "Enter 3 Numbers: 12 90 100\n",
      "100\n"
     ]
    }
   ],
   "source": [
    "list1 = list(map(int, input(\"Enter 3 Numbers: \").split()))\n",
    "def max2(x,y):\n",
    "  if x > y:\n",
    "    return x\n",
    "  else:\n",
    "    return y\n",
    "\n",
    "largest_number = 0\n",
    "\n",
    "for i in range(3):\n",
    "  largest_number = max2(list1[i],largest_number)\n",
    "\n",
    "print(largest_number)"
   ]
  },
  {
   "cell_type": "markdown",
   "metadata": {
    "id": "KsaAtU9W-rlK"
   },
   "source": [
    "--- solution using using lambda and reduce function ---\n"
   ]
  },
  {
   "cell_type": "code",
   "execution_count": null,
   "metadata": {
    "colab": {
     "base_uri": "https://localhost:8080/"
    },
    "id": "Ov_AoVg1A2qa",
    "outputId": "1eb7747e-fd3e-49ef-ec10-5bcfe0b29c14"
   },
   "outputs": [
    {
     "name": "stdout",
     "output_type": "stream",
     "text": [
      "Enter 3 Numbers: 90 10 82\n",
      "90\n"
     ]
    }
   ],
   "source": [
    "from functools import reduce\n",
    "print(reduce(lambda x,y : x if(x > y) else y,list(map(int, input(\"Enter 3 Numbers: \").split()))))"
   ]
  },
  {
   "cell_type": "markdown",
   "metadata": {
    "id": "lpJ1pobQBkkl"
   },
   "source": [
    "#4. Write a program to input number of lines from the user and print the patterns:"
   ]
  },
  {
   "cell_type": "code",
   "execution_count": null,
   "metadata": {
    "colab": {
     "base_uri": "https://localhost:8080/"
    },
    "id": "FnRsdqkrBMlI",
    "outputId": "02cf90c7-63bf-442e-8c1f-3a5cae8a9e01"
   },
   "outputs": [
    {
     "name": "stdout",
     "output_type": "stream",
     "text": [
      "enter number of lines: 4\n",
      "\n",
      "*\n",
      "**\n",
      "***\n",
      "****\n"
     ]
    }
   ],
   "source": [
    "x = int(input(\"enter number of lines: \"))\n",
    "for i in range(x+1):\n",
    "  print(\"*\"*i)"
   ]
  },
  {
   "cell_type": "markdown",
   "metadata": {
    "id": "xp-lvRAuC61f"
   },
   "source": [
    "#5. Write a program to print the Diamond Pattern"
   ]
  },
  {
   "cell_type": "code",
   "execution_count": null,
   "metadata": {
    "colab": {
     "base_uri": "https://localhost:8080/"
    },
    "id": "yFJNWP0iCPdq",
    "outputId": "b1580ae3-ac22-4c5d-871a-d9d01b20d9f9"
   },
   "outputs": [
    {
     "name": "stdout",
     "output_type": "stream",
     "text": [
      "Enter Number of Lines for Diamond Pattern: 5\n",
      "  * \n",
      " * * \n",
      "* * * \n",
      " * * \n",
      "  * \n"
     ]
    }
   ],
   "source": [
    "x = int(input(\"Enter Number of Lines for Diamond Pattern: \"))\n",
    "#Upper Part\n",
    "for i in range(x//2+1):\n",
    "  print(\" \"*(x//2-i),end='')\n",
    "  for j in range(i+1):\n",
    "    print('*',end =' ')\n",
    "  print('')\n",
    "\n",
    "#Lower Part\n",
    "for i in range(x//2):\n",
    "  print(\" \"*(i+1),end='')\n",
    "  for j in range(x//2-i,0,-1):\n",
    "    print('*',end =' ')\n",
    "  print('')\n"
   ]
  },
  {
   "cell_type": "markdown",
   "metadata": {
    "id": "R96j2WUVEJjk"
   },
   "source": [
    "#6. Write a program to print the following Pattern"
   ]
  },
  {
   "cell_type": "code",
   "execution_count": null,
   "metadata": {
    "colab": {
     "base_uri": "https://localhost:8080/"
    },
    "id": "geUT6S_HGe5h",
    "outputId": "ef22aec9-73d4-492d-d883-002d3d151f31"
   },
   "outputs": [
    {
     "name": "stdout",
     "output_type": "stream",
     "text": [
      "Enter Number of Lines in the Pattern: 5\n",
      "*\n",
      "**\n",
      "***\n",
      "**\n",
      "*\n"
     ]
    }
   ],
   "source": [
    "x = int(input(\"Enter Number of Lines in the Pattern: \"))\n",
    "for i in range(x//2+1):\n",
    "  print(\"*\"*(i+1))\n",
    "for i in range(x//2,0,-1):\n",
    "  print(\"*\"*i)"
   ]
  },
  {
   "cell_type": "markdown",
   "metadata": {
    "id": "1623LM9kGfj-"
   },
   "source": [
    "#7. Write a program to make a List in Python and perform following operations on List:\n",
    "a) length using len() function\n",
    "b) print element at index 0\n",
    "c) adding an element to the list using + operator\n",
    "d) appending an element to the list\n",
    "e) negative indexing in list\n",
    "f) remove the first occurrence of element a from list\n",
    "g) reverse the list\n",
    "h) sort list"
   ]
  },
  {
   "cell_type": "code",
   "execution_count": null,
   "metadata": {
    "id": "UGUU_4lMGktJ"
   },
   "outputs": [],
   "source": [
    "list1 = [\"Apple\", \"Orange\", \"Kiwi\", \"Guava\", \"Watermelon\", \"Apricot\"]"
   ]
  },
  {
   "cell_type": "code",
   "execution_count": null,
   "metadata": {
    "colab": {
     "base_uri": "https://localhost:8080/"
    },
    "id": "_c6WJM2WG5eU",
    "outputId": "2d0d8d3d-865c-4c36-fc5a-9afb6c610fd7"
   },
   "outputs": [
    {
     "name": "stdout",
     "output_type": "stream",
     "text": [
      "6\n"
     ]
    }
   ],
   "source": [
    "print(len(list1))"
   ]
  },
  {
   "cell_type": "code",
   "execution_count": null,
   "metadata": {
    "colab": {
     "base_uri": "https://localhost:8080/"
    },
    "id": "FUWtb2xoHMJj",
    "outputId": "b0e0dcda-53c6-49c8-9aa0-6330d167a2cd"
   },
   "outputs": [
    {
     "name": "stdout",
     "output_type": "stream",
     "text": [
      "Apple\n"
     ]
    }
   ],
   "source": [
    "print(list1[0])"
   ]
  },
  {
   "cell_type": "code",
   "execution_count": null,
   "metadata": {
    "colab": {
     "base_uri": "https://localhost:8080/"
    },
    "id": "MTmv9ZsXHQZ7",
    "outputId": "a72dfe49-1aac-4b64-e3a3-78da87cd6eb2"
   },
   "outputs": [
    {
     "name": "stdout",
     "output_type": "stream",
     "text": [
      "['Apple', 'Orange', 'Kiwi', 'Guava', 'Watermelon', 'Apricot', 'Banana']\n"
     ]
    }
   ],
   "source": [
    "list1 += [\"Banana\"]\n",
    "print(list1)"
   ]
  },
  {
   "cell_type": "code",
   "execution_count": null,
   "metadata": {
    "colab": {
     "base_uri": "https://localhost:8080/"
    },
    "id": "a_D1SbX0HkhR",
    "outputId": "a6566e87-97c7-4970-e761-f0f623637515"
   },
   "outputs": [
    {
     "name": "stdout",
     "output_type": "stream",
     "text": [
      "['Apple', 'Orange', 'Kiwi', 'Guava', 'Watermelon', 'Apricot', 'Banana', 'Chikko']\n"
     ]
    }
   ],
   "source": [
    "list1.append(\"Chikko\")\n",
    "print(list1)"
   ]
  },
  {
   "cell_type": "code",
   "execution_count": null,
   "metadata": {
    "colab": {
     "base_uri": "https://localhost:8080/"
    },
    "id": "XboEkYpzHnL6",
    "outputId": "5a947868-21ae-4528-d6bd-87b038cfe925"
   },
   "outputs": [
    {
     "name": "stdout",
     "output_type": "stream",
     "text": [
      "Chikko\n",
      "Banana\n"
     ]
    }
   ],
   "source": [
    "print(list1[-1])\n",
    "print(list1[-2])"
   ]
  },
  {
   "cell_type": "code",
   "execution_count": null,
   "metadata": {
    "colab": {
     "base_uri": "https://localhost:8080/"
    },
    "id": "aTmVvqnlIAXX",
    "outputId": "a0e3e560-0bab-42da-adfb-9eaf95d50901"
   },
   "outputs": [
    {
     "name": "stdout",
     "output_type": "stream",
     "text": [
      "['Orange', 'Kiwi', 'Guava', 'Watermelon', 'Apricot', 'Banana', 'Chikko']\n"
     ]
    }
   ],
   "source": [
    "list1.pop(0)\n",
    "print(list1)"
   ]
  },
  {
   "cell_type": "code",
   "execution_count": null,
   "metadata": {
    "colab": {
     "base_uri": "https://localhost:8080/"
    },
    "id": "hDDusXJTIWyK",
    "outputId": "414604a8-c4f5-4e77-e2ce-579f344d122b"
   },
   "outputs": [
    {
     "name": "stdout",
     "output_type": "stream",
     "text": [
      "['Chikko', 'Banana', 'Apricot', 'Watermelon', 'Guava', 'Kiwi', 'Orange']\n"
     ]
    }
   ],
   "source": [
    "list1.reverse()\n",
    "print(list1)"
   ]
  },
  {
   "cell_type": "code",
   "execution_count": null,
   "metadata": {
    "colab": {
     "base_uri": "https://localhost:8080/"
    },
    "id": "QSEvM60PJfVC",
    "outputId": "a1180545-423d-41ea-9644-7d4db94f13a3"
   },
   "outputs": [
    {
     "name": "stdout",
     "output_type": "stream",
     "text": [
      "['Apricot', 'Banana', 'Chikko', 'Guava', 'Kiwi', 'Orange', 'Watermelon']\n"
     ]
    }
   ],
   "source": [
    "list1.sort()\n",
    "print(list1)"
   ]
  },
  {
   "cell_type": "markdown",
   "metadata": {
    "id": "ZDn5cvyCLkJ_"
   },
   "source": [
    "#8. Write a program to demonstrate use of Dictionary in Python with their inbuilt functions."
   ]
  },
  {
   "cell_type": "code",
   "execution_count": null,
   "metadata": {
    "id": "lutc_cYzM9js"
   },
   "outputs": [],
   "source": [
    "dict1 = {\"firstName\" : \"Jack\",\n",
    "         \"lastName\": \"Haigar\",\n",
    "         \"age\": 30,\n",
    "         \"postion\": \"CR\",\n",
    "         \"class\": 10,\n",
    "         \"section\": 'A'}"
   ]
  },
  {
   "cell_type": "code",
   "execution_count": null,
   "metadata": {
    "colab": {
     "base_uri": "https://localhost:8080/"
    },
    "id": "3TsZ03XHOrtc",
    "outputId": "b04c11d2-7570-4e46-eed0-a71a86ca093e"
   },
   "outputs": [
    {
     "name": "stdout",
     "output_type": "stream",
     "text": [
      "{'firstName': 'Jack', 'lastName': 'Haigar', 'age': 30, 'postion': 'CR', 'class': 10, 'section': 'A'}\n"
     ]
    }
   ],
   "source": [
    "print(dict1)"
   ]
  },
  {
   "cell_type": "code",
   "execution_count": null,
   "metadata": {
    "colab": {
     "base_uri": "https://localhost:8080/"
    },
    "id": "9uHtLF9UOraM",
    "outputId": "453e44c5-ece5-4a8d-ea4a-e7404fe50c14"
   },
   "outputs": [
    {
     "data": {
      "text/plain": [
       "dict_keys(['firstName', 'lastName', 'age', 'postion', 'class', 'section'])"
      ]
     },
     "execution_count": 60,
     "metadata": {},
     "output_type": "execute_result"
    }
   ],
   "source": [
    "dict1.keys()"
   ]
  },
  {
   "cell_type": "code",
   "execution_count": null,
   "metadata": {
    "colab": {
     "base_uri": "https://localhost:8080/"
    },
    "id": "H0riEyDroJ2i",
    "outputId": "b8b8e1d8-e61b-4f20-f615-22d5f77c6d0b"
   },
   "outputs": [
    {
     "data": {
      "text/plain": [
       "dict_values(['Jack', 'Haigar', 30, 'CR', 10, 'A'])"
      ]
     },
     "execution_count": 61,
     "metadata": {},
     "output_type": "execute_result"
    }
   ],
   "source": [
    "dict1.values()"
   ]
  },
  {
   "cell_type": "code",
   "execution_count": null,
   "metadata": {
    "colab": {
     "base_uri": "https://localhost:8080/"
    },
    "id": "EhK7f7M3O4-L",
    "outputId": "b8a7ff77-809d-4e54-fd9e-56b1764b2990"
   },
   "outputs": [
    {
     "name": "stdout",
     "output_type": "stream",
     "text": [
      "{'firstName': 'Jack', 'lastName': 'Haigar', 'age': 29, 'postion': 'CR', 'class': 10, 'section': 'A'}\n"
     ]
    }
   ],
   "source": [
    "dict1['age'] = 29\n",
    "print(dict1)"
   ]
  },
  {
   "cell_type": "code",
   "execution_count": null,
   "metadata": {
    "colab": {
     "base_uri": "https://localhost:8080/"
    },
    "id": "TcVQ9NvLPU8E",
    "outputId": "0eacd596-db8c-4735-b6f6-c9c3e1a60ff3"
   },
   "outputs": [
    {
     "name": "stdout",
     "output_type": "stream",
     "text": [
      "{'firstName': 'Jack', 'lastName': 'Haigar', 'age': 29, 'postion': 'CR', 'class': 10, 'section': 'A', 'marks': 96}\n"
     ]
    }
   ],
   "source": [
    "dict1['marks'] = 96\n",
    "print(dict1)"
   ]
  },
  {
   "cell_type": "code",
   "execution_count": null,
   "metadata": {
    "colab": {
     "base_uri": "https://localhost:8080/"
    },
    "id": "ty6KiIhOPU5K",
    "outputId": "a2777cf1-2fee-465d-b9b8-79cb62f25313"
   },
   "outputs": [
    {
     "name": "stdout",
     "output_type": "stream",
     "text": [
      "{'firstName': 'Jack', 'lastName': 'Haigar', 'age': 29, 'postion': 'CR', 'class': 10, 'section': 'A'}\n"
     ]
    }
   ],
   "source": [
    "del dict1['marks']\n",
    "print(dict1)"
   ]
  },
  {
   "cell_type": "code",
   "execution_count": null,
   "metadata": {
    "colab": {
     "base_uri": "https://localhost:8080/"
    },
    "id": "kbqa5H5ePU2n",
    "outputId": "0969cd8a-9a77-440d-f17b-7ab2340477b0"
   },
   "outputs": [
    {
     "data": {
      "text/plain": [
       "6"
      ]
     },
     "execution_count": 65,
     "metadata": {},
     "output_type": "execute_result"
    }
   ],
   "source": [
    "len(dict1)"
   ]
  },
  {
   "cell_type": "code",
   "execution_count": null,
   "metadata": {
    "colab": {
     "base_uri": "https://localhost:8080/",
     "height": 1000
    },
    "id": "SA9HGkjEPUnp",
    "outputId": "646b4005-86bc-4663-b1f5-7583895198b7"
   },
   "outputs": [
    {
     "data": {
      "application/vnd.google.colaboratory.intrinsic+json": {
       "type": "string"
      },
      "text/plain": [
       "\"{'firstName': 'Jack', 'lastName': 'Haigar', 'age': 29, 'postion': 'CR', 'class': 10, 'section': 'A'}\""
      ]
     },
     "execution_count": 66,
     "metadata": {},
     "output_type": "execute_result"
    }
   ],
   "source": [
    "str(dict1)"
   ]
  },
  {
   "cell_type": "code",
   "execution_count": null,
   "metadata": {
    "colab": {
     "base_uri": "https://localhost:8080/"
    },
    "id": "Gmn797suPUlp",
    "outputId": "f73ecc62-5cdd-43f4-d508-92af82d316a7"
   },
   "outputs": [
    {
     "data": {
      "text/plain": [
       "dict"
      ]
     },
     "execution_count": 67,
     "metadata": {},
     "output_type": "execute_result"
    }
   ],
   "source": [
    "type(dict1)"
   ]
  },
  {
   "cell_type": "code",
   "execution_count": null,
   "metadata": {
    "colab": {
     "base_uri": "https://localhost:8080/"
    },
    "id": "hr2NTvWlPUjN",
    "outputId": "ba36a701-edc8-4162-f2d8-32848a286287"
   },
   "outputs": [
    {
     "name": "stdout",
     "output_type": "stream",
     "text": [
      "{'firstName': 'Jack', 'lastName': 'Haigar', 'age': 29, 'postion': 'CR', 'class': 10, 'section': 'A'}\n"
     ]
    }
   ],
   "source": [
    "dict2 = dict1.copy()\n",
    "print (dict2)"
   ]
  },
  {
   "cell_type": "code",
   "execution_count": null,
   "metadata": {
    "colab": {
     "base_uri": "https://localhost:8080/"
    },
    "id": "nD4p4VdTPUgl",
    "outputId": "39128b23-0c37-406f-fd91-e5c9a0050953"
   },
   "outputs": [
    {
     "name": "stdout",
     "output_type": "stream",
     "text": [
      "{'name': 'X', 'age': 'X', 'sex': 'X'}\n"
     ]
    }
   ],
   "source": [
    "seq = ('name', 'age', 'sex')\n",
    "value = 'X'\n",
    "dict3 = dict.fromkeys(seq,value)\n",
    "print (dict3)"
   ]
  },
  {
   "cell_type": "code",
   "execution_count": null,
   "metadata": {
    "colab": {
     "base_uri": "https://localhost:8080/"
    },
    "id": "TuL-80GiPUd_",
    "outputId": "efcf1597-8bcb-4205-e95a-1a202a07e47e"
   },
   "outputs": [
    {
     "data": {
      "text/plain": [
       "29"
      ]
     },
     "execution_count": 70,
     "metadata": {},
     "output_type": "execute_result"
    }
   ],
   "source": [
    "dict1.get('age',\"NA\")"
   ]
  },
  {
   "cell_type": "code",
   "execution_count": null,
   "metadata": {
    "colab": {
     "base_uri": "https://localhost:8080/"
    },
    "id": "j70jT0FNPUbZ",
    "outputId": "2ae2c829-1bd4-47e4-f4ef-5fcbda90e9e7"
   },
   "outputs": [
    {
     "name": "stdout",
     "output_type": "stream",
     "text": [
      "NA\n",
      "{'firstName': 'Jack', 'lastName': 'Haigar', 'age': 29, 'postion': 'CR', 'class': 10, 'section': 'A'}\n"
     ]
    }
   ],
   "source": [
    "print(dict1.get('num',\"NA\"))\n",
    "print(dict1)"
   ]
  },
  {
   "cell_type": "code",
   "execution_count": null,
   "metadata": {
    "colab": {
     "base_uri": "https://localhost:8080/"
    },
    "id": "U-yBNfq2TcHP",
    "outputId": "c786e182-5ddb-4416-efd6-51140ad143d8"
   },
   "outputs": [
    {
     "data": {
      "text/plain": [
       "29"
      ]
     },
     "execution_count": 72,
     "metadata": {},
     "output_type": "execute_result"
    }
   ],
   "source": [
    "dict1.setdefault('age',\"NA\")"
   ]
  },
  {
   "cell_type": "code",
   "execution_count": null,
   "metadata": {
    "colab": {
     "base_uri": "https://localhost:8080/"
    },
    "id": "BzqE8hoDTiqU",
    "outputId": "1211468d-58ff-435b-c0e4-0c1f719b6a78"
   },
   "outputs": [
    {
     "name": "stdout",
     "output_type": "stream",
     "text": [
      "NA\n",
      "{'firstName': 'Jack', 'lastName': 'Haigar', 'age': 29, 'postion': 'CR', 'class': 10, 'section': 'A', 'num': 'NA'}\n"
     ]
    }
   ],
   "source": [
    "print(dict1.setdefault('num',\"NA\"))\n",
    "print(dict1)"
   ]
  },
  {
   "cell_type": "code",
   "execution_count": null,
   "metadata": {
    "colab": {
     "base_uri": "https://localhost:8080/"
    },
    "id": "P_zYOJZtPUYo",
    "outputId": "450f1dda-3021-4da8-f3c3-5bddf5831b78"
   },
   "outputs": [
    {
     "data": {
      "text/plain": [
       "dict_items([('firstName', 'Jack'), ('lastName', 'Haigar'), ('age', 29), ('postion', 'CR'), ('class', 10), ('section', 'A'), ('num', 'NA')])"
      ]
     },
     "execution_count": 74,
     "metadata": {},
     "output_type": "execute_result"
    }
   ],
   "source": [
    "dict1.items()"
   ]
  },
  {
   "cell_type": "code",
   "execution_count": null,
   "metadata": {
    "colab": {
     "base_uri": "https://localhost:8080/"
    },
    "id": "gPyLeDxiS8e0",
    "outputId": "e753051f-0756-4042-c51d-cea45b0264f1"
   },
   "outputs": [
    {
     "name": "stdout",
     "output_type": "stream",
     "text": [
      "{'firstName': 'Jack', 'lastName': 'Haigar', 'age': 'X', 'postion': 'CR', 'class': 10, 'section': 'A', 'num': 'NA', 'name': 'X', 'sex': 'X'}\n"
     ]
    }
   ],
   "source": [
    "dict1.update(dict3)\n",
    "print(dict1)"
   ]
  },
  {
   "cell_type": "code",
   "execution_count": null,
   "metadata": {
    "colab": {
     "base_uri": "https://localhost:8080/"
    },
    "id": "_TaBTzDNPUFH",
    "outputId": "57fccaac-c898-4c98-c2c5-4d1798f8eb74"
   },
   "outputs": [
    {
     "name": "stdout",
     "output_type": "stream",
     "text": [
      "{}\n"
     ]
    }
   ],
   "source": [
    "dict1.clear()\n",
    "print(dict1)\n",
    "del dict1"
   ]
  },
  {
   "cell_type": "markdown",
   "metadata": {
    "id": "nk-CIkKjLpkl"
   },
   "source": [
    "#9. Write a program to demonstrate use of Set in Python with their inbuilt functions. "
   ]
  },
  {
   "cell_type": "code",
   "execution_count": null,
   "metadata": {
    "colab": {
     "base_uri": "https://localhost:8080/"
    },
    "id": "EDUotwN2xfiT",
    "outputId": "041a8a8d-9a58-4513-f78d-034463f6bd95"
   },
   "outputs": [
    {
     "name": "stdout",
     "output_type": "stream",
     "text": [
      "{'C', 'Java', 'python', 'C++'}\n"
     ]
    }
   ],
   "source": [
    "set1 = {\"python\", \"C\", \"Java\", \"C++\"}\n",
    "print(set1)"
   ]
  },
  {
   "cell_type": "code",
   "execution_count": null,
   "metadata": {
    "colab": {
     "base_uri": "https://localhost:8080/"
    },
    "id": "NAtyNrZdyILt",
    "outputId": "476cec92-7d52-464a-ec0c-f95ee9e6d957"
   },
   "outputs": [
    {
     "name": "stdout",
     "output_type": "stream",
     "text": [
      "{'C++', 'C', 'Java', 'python', 'VHDL'}\n"
     ]
    }
   ],
   "source": [
    "set1.add(\"VHDL\")\n",
    "print(set1)"
   ]
  },
  {
   "cell_type": "code",
   "execution_count": null,
   "metadata": {
    "colab": {
     "base_uri": "https://localhost:8080/"
    },
    "id": "_flGGQpb1307",
    "outputId": "b13f8273-242d-404d-f739-7c9215655c81"
   },
   "outputs": [
    {
     "name": "stdout",
     "output_type": "stream",
     "text": [
      "{'C', 'Java', 'python', 'VHDL'}\n"
     ]
    }
   ],
   "source": [
    "set1.pop()\n",
    "print(set1)"
   ]
  },
  {
   "cell_type": "code",
   "execution_count": null,
   "metadata": {
    "colab": {
     "base_uri": "https://localhost:8080/"
    },
    "id": "-XtU6OvyyVsA",
    "outputId": "3d10bd22-4d56-41d7-e679-86c76ac3d6a7"
   },
   "outputs": [
    {
     "name": "stdout",
     "output_type": "stream",
     "text": [
      "{'C', 'Java', 'python', 'VHDL'}\n"
     ]
    }
   ],
   "source": [
    "set2 = set1.copy()\n",
    "print(set2)"
   ]
  },
  {
   "cell_type": "code",
   "execution_count": null,
   "metadata": {
    "colab": {
     "base_uri": "https://localhost:8080/"
    },
    "id": "IcVD-BMlzcNw",
    "outputId": "e50b8851-8ae0-4207-bec0-97e2d07da1c5"
   },
   "outputs": [
    {
     "name": "stdout",
     "output_type": "stream",
     "text": [
      "{'C', 'Java', 'C++'}\n"
     ]
    }
   ],
   "source": [
    "set1 = {\"python\", \"C\", \"Java\", \"C++\"}\n",
    "set2 = {\"Apple\", \"Orange\", \"Kiwi\", \"python\"}\n",
    "diff = set1.difference(set2)\n",
    "print(diff)"
   ]
  },
  {
   "cell_type": "code",
   "execution_count": null,
   "metadata": {
    "colab": {
     "base_uri": "https://localhost:8080/"
    },
    "id": "3WqaairwzcLC",
    "outputId": "a03ff0f0-05cc-4164-8978-7df0cfcee59e"
   },
   "outputs": [
    {
     "name": "stdout",
     "output_type": "stream",
     "text": [
      "{'C', 'Java', 'C++'}\n"
     ]
    }
   ],
   "source": [
    "set1 = {\"python\", \"C\", \"Java\", \"C++\"}\n",
    "set2 = {\"Apple\", \"Orange\", \"Kiwi\", \"python\"}\n",
    "set1.difference_update(set2)\n",
    "print(set1)"
   ]
  },
  {
   "cell_type": "code",
   "execution_count": null,
   "metadata": {
    "colab": {
     "base_uri": "https://localhost:8080/"
    },
    "id": "Pl65_L_yzcIX",
    "outputId": "a185b9f0-d5ca-4eb8-d4dc-7d287297365c"
   },
   "outputs": [
    {
     "name": "stdout",
     "output_type": "stream",
     "text": [
      "{'python'}\n"
     ]
    }
   ],
   "source": [
    "set1 = {\"python\", \"C\", \"Java\", \"C++\"}\n",
    "set2 = {\"Apple\", \"Orange\", \"Kiwi\", \"python\"}\n",
    "intersection = set1.intersection(set2)\n",
    "print(intersection)"
   ]
  },
  {
   "cell_type": "code",
   "execution_count": null,
   "metadata": {
    "colab": {
     "base_uri": "https://localhost:8080/"
    },
    "id": "IctSMhgLzcFp",
    "outputId": "ae6a8680-7fa0-4632-b44c-b7071e8590ea"
   },
   "outputs": [
    {
     "name": "stdout",
     "output_type": "stream",
     "text": [
      "{'python'}\n"
     ]
    }
   ],
   "source": [
    "set1 = {\"python\", \"C\", \"Java\", \"C++\"}\n",
    "set2 = {\"Apple\", \"Orange\", \"Kiwi\", \"python\"}\n",
    "set1.intersection_update(set2)\n",
    "print(set1)"
   ]
  },
  {
   "cell_type": "code",
   "execution_count": null,
   "metadata": {
    "colab": {
     "base_uri": "https://localhost:8080/"
    },
    "id": "pgcEE7FlzcDD",
    "outputId": "3c138176-7b69-4d42-c5c8-6320d9d0b80e"
   },
   "outputs": [
    {
     "name": "stdout",
     "output_type": "stream",
     "text": [
      "False\n"
     ]
    }
   ],
   "source": [
    "set1 = {\"python\", \"C\", \"Java\", \"C++\"}\n",
    "set2 = {\"Apple\", \"Orange\", \"Kiwi\", \"python\"}\n",
    "disjnt = set1.isdisjoint(set2)\n",
    "print(disjnt)"
   ]
  },
  {
   "cell_type": "code",
   "execution_count": null,
   "metadata": {
    "colab": {
     "base_uri": "https://localhost:8080/"
    },
    "id": "WnBh-D-EzcAV",
    "outputId": "43d19552-e033-4a08-f202-7bcf6862a5c9"
   },
   "outputs": [
    {
     "name": "stdout",
     "output_type": "stream",
     "text": [
      "True\n"
     ]
    }
   ],
   "source": [
    "set1 = {\"python\", \"C\", \"Java\", \"C++\"}\n",
    "set2 = {\"Apple\", \"Orange\", \"Kiwi\", \"python\", \"C\", \"Java\", \"C++\"}\n",
    "subset = set1.issubset(set2)\n",
    "print(subset)"
   ]
  },
  {
   "cell_type": "code",
   "execution_count": null,
   "metadata": {
    "colab": {
     "base_uri": "https://localhost:8080/"
    },
    "id": "tHLKWaXWzb9q",
    "outputId": "199c6351-f91f-465b-f613-4076f25254ca"
   },
   "outputs": [
    {
     "name": "stdout",
     "output_type": "stream",
     "text": [
      "False\n",
      "True\n"
     ]
    }
   ],
   "source": [
    "set1 = {\"python\", \"C\", \"Java\", \"C++\"}\n",
    "set2 = {\"Apple\", \"Orange\", \"Kiwi\", \"python\", \"C\", \"Java\", \"C++\"}\n",
    "superset1 = set1.issuperset(set2)\n",
    "print(superset1)\n",
    "superset2 = set2.issuperset(set1)\n",
    "print(superset2)"
   ]
  },
  {
   "cell_type": "code",
   "execution_count": null,
   "metadata": {
    "colab": {
     "base_uri": "https://localhost:8080/"
    },
    "id": "nVn203wTzb67",
    "outputId": "2a8e55d5-0825-410c-f3ce-4ab12ec21519"
   },
   "outputs": [
    {
     "name": "stdout",
     "output_type": "stream",
     "text": [
      "{'C', 'Java', 'python', 'C++'}\n",
      "{'C', 'Java', 'C++'}\n"
     ]
    }
   ],
   "source": [
    "set1 = {\"python\", \"C\", \"Java\", \"C++\"}\n",
    "print(set1)\n",
    "set1.remove('python')\n",
    "print(set1)"
   ]
  },
  {
   "cell_type": "code",
   "execution_count": null,
   "metadata": {
    "colab": {
     "base_uri": "https://localhost:8080/"
    },
    "id": "PVnEiIP_zb4X",
    "outputId": "44a4805d-365d-4dcd-da5a-0f59c14b5269"
   },
   "outputs": [
    {
     "name": "stdout",
     "output_type": "stream",
     "text": [
      "{'C++', 'C', 'Java', 'Orange', 'Apple', 'Kiwi'}\n"
     ]
    }
   ],
   "source": [
    "set1 = {\"python\", \"C\", \"Java\", \"C++\"}\n",
    "set2 = {\"Apple\", \"Orange\", \"Kiwi\", \"python\"}\n",
    "sym_diff = set1.symmetric_difference(set2)\n",
    "print(sym_diff)"
   ]
  },
  {
   "cell_type": "code",
   "execution_count": null,
   "metadata": {
    "colab": {
     "base_uri": "https://localhost:8080/"
    },
    "id": "l7tp1MfJzb1p",
    "outputId": "c85b762e-9c27-40ba-a5b0-8f300867fb91"
   },
   "outputs": [
    {
     "name": "stdout",
     "output_type": "stream",
     "text": [
      "{'C++', 'C', 'Java', 'Orange', 'Apple', 'Kiwi'}\n"
     ]
    }
   ],
   "source": [
    "set1 = {\"python\", \"C\", \"Java\", \"C++\"}\n",
    "set2 = {\"Apple\", \"Orange\", \"Kiwi\", \"python\"}\n",
    "set1.symmetric_difference_update(set2)\n",
    "print(set1)"
   ]
  },
  {
   "cell_type": "code",
   "execution_count": null,
   "metadata": {
    "colab": {
     "base_uri": "https://localhost:8080/"
    },
    "id": "JnvPqbvQzbzH",
    "outputId": "1db74eb0-132f-4eca-e235-50d887546d1b"
   },
   "outputs": [
    {
     "name": "stdout",
     "output_type": "stream",
     "text": [
      "{'C++', 'C', 'Java', 'Orange', 'Apple', 'python', 'Kiwi'}\n"
     ]
    }
   ],
   "source": [
    "set1 = {\"python\", \"C\", \"Java\", \"C++\"}\n",
    "set2 = {\"Apple\", \"Orange\", \"Kiwi\", \"python\"}\n",
    "set3 = set1.union(set2)\n",
    "print(set3)"
   ]
  },
  {
   "cell_type": "code",
   "execution_count": null,
   "metadata": {
    "colab": {
     "base_uri": "https://localhost:8080/"
    },
    "id": "WXl_duDmzbwZ",
    "outputId": "54e5ba9e-2d65-41f5-9d15-10d6dd130f23"
   },
   "outputs": [
    {
     "name": "stdout",
     "output_type": "stream",
     "text": [
      "{'C++', 'C', 'Java', 'Orange', 'Apple', 'python', 'Kiwi'}\n"
     ]
    }
   ],
   "source": [
    "set1 = {\"python\", \"C\", \"Java\", \"C++\"}\n",
    "set2 = {\"Apple\", \"Orange\", \"Kiwi\", \"python\"}\n",
    "set1.update(set2)\n",
    "print(set1)"
   ]
  },
  {
   "cell_type": "code",
   "execution_count": null,
   "metadata": {
    "colab": {
     "base_uri": "https://localhost:8080/"
    },
    "id": "T4odWkJIzbtn",
    "outputId": "501baa9c-cbe5-4407-fe7d-e3bb72c18872"
   },
   "outputs": [
    {
     "name": "stdout",
     "output_type": "stream",
     "text": [
      "{'C', 'Java', 'python', 'C++'}\n",
      "set()\n"
     ]
    }
   ],
   "source": [
    "set1 = {\"python\", \"C\", \"Java\", \"C++\"}\n",
    "print(set1)\n",
    "set1.clear()\n",
    "print(set1)"
   ]
  },
  {
   "cell_type": "code",
   "execution_count": null,
   "metadata": {
    "colab": {
     "base_uri": "https://localhost:8080/"
    },
    "id": "mA4bP-7kzbrT",
    "outputId": "94abffbf-50b5-4ab5-e523-48bb8350009c"
   },
   "outputs": [
    {
     "name": "stdout",
     "output_type": "stream",
     "text": [
      "{'C', 'Java', 'python', 'C++'}\n",
      "{'C', 'Java', 'C++'}\n"
     ]
    }
   ],
   "source": [
    "set1 = {\"python\", \"C\", \"Java\", \"C++\"}\n",
    "print(set1)\n",
    "set1.discard('python')\n",
    "print(set1)"
   ]
  },
  {
   "cell_type": "code",
   "execution_count": null,
   "metadata": {
    "id": "lGSyo3Bbzboz"
   },
   "outputs": [],
   "source": [
    "del set1"
   ]
  },
  {
   "cell_type": "markdown",
   "metadata": {
    "id": "CUIDRG0DL1MN"
   },
   "source": [
    "#10. Write a program to demonstrate use of Tuple in Python with their inbuilt functions."
   ]
  },
  {
   "cell_type": "code",
   "execution_count": null,
   "metadata": {
    "colab": {
     "base_uri": "https://localhost:8080/"
    },
    "id": "lTateaUtcY8g",
    "outputId": "d2251751-3f5d-4fff-c76f-713f17faf62f"
   },
   "outputs": [
    {
     "name": "stdout",
     "output_type": "stream",
     "text": [
      "5\n",
      "(5, 6, 8, 9)\n"
     ]
    }
   ],
   "source": [
    "tuple1 = (1, 5, 6, 8, 9, 10, 7, 1)\n",
    "tuple2 = (\"python\", \"Java\", \"C\", \"C++\")\n",
    "print(tuple1[1])\n",
    "print(tuple1[1:5])"
   ]
  },
  {
   "cell_type": "code",
   "execution_count": null,
   "metadata": {
    "colab": {
     "base_uri": "https://localhost:8080/"
    },
    "id": "kdRKWm8KddXg",
    "outputId": "80be7a5e-2f8f-4aa9-dd6a-135a27409161"
   },
   "outputs": [
    {
     "name": "stdout",
     "output_type": "stream",
     "text": [
      "(1, 5, 6, 8, 9, 10, 7, 1, 'python', 'Java', 'C', 'C++')\n"
     ]
    }
   ],
   "source": [
    "tuple3 = tuple1 + tuple2\n",
    "print(tuple3)"
   ]
  },
  {
   "cell_type": "code",
   "execution_count": null,
   "metadata": {
    "colab": {
     "base_uri": "https://localhost:8080/"
    },
    "id": "1VlmZZW4ddVa",
    "outputId": "d601c486-7476-4dbd-c526-4db6e0faa433"
   },
   "outputs": [
    {
     "data": {
      "text/plain": [
       "8"
      ]
     },
     "execution_count": 9,
     "metadata": {},
     "output_type": "execute_result"
    }
   ],
   "source": [
    "len(tuple1)"
   ]
  },
  {
   "cell_type": "code",
   "execution_count": null,
   "metadata": {
    "colab": {
     "base_uri": "https://localhost:8080/"
    },
    "id": "pur_fyB6ddTD",
    "outputId": "caf06961-eb85-4b68-9c8e-9ac14419fcb5"
   },
   "outputs": [
    {
     "data": {
      "text/plain": [
       "True"
      ]
     },
     "execution_count": 10,
     "metadata": {},
     "output_type": "execute_result"
    }
   ],
   "source": [
    "6 in tuple1"
   ]
  },
  {
   "cell_type": "code",
   "execution_count": null,
   "metadata": {
    "colab": {
     "base_uri": "https://localhost:8080/"
    },
    "id": "VVdzyp1fddQq",
    "outputId": "5cd331a0-60e7-48a8-fe52-0e51a97def85"
   },
   "outputs": [
    {
     "data": {
      "text/plain": [
       "2"
      ]
     },
     "execution_count": 11,
     "metadata": {},
     "output_type": "execute_result"
    }
   ],
   "source": [
    "tuple1.count(1)"
   ]
  },
  {
   "cell_type": "code",
   "execution_count": null,
   "metadata": {
    "colab": {
     "base_uri": "https://localhost:8080/"
    },
    "id": "1bRzvPR7dbaP",
    "outputId": "86fd778e-09eb-4b56-ef69-b04a92f89b07"
   },
   "outputs": [
    {
     "data": {
      "text/plain": [
       "0"
      ]
     },
     "execution_count": 12,
     "metadata": {},
     "output_type": "execute_result"
    }
   ],
   "source": [
    "tuple1.index(1)"
   ]
  },
  {
   "cell_type": "code",
   "execution_count": null,
   "metadata": {
    "colab": {
     "base_uri": "https://localhost:8080/"
    },
    "id": "fhH0D53jdbXw",
    "outputId": "4bfc9ea7-aa64-4ee0-804f-43f20b0360f7"
   },
   "outputs": [
    {
     "name": "stdout",
     "output_type": "stream",
     "text": [
      "(3, 9, 9, 4, 6, 7)\n"
     ]
    }
   ],
   "source": [
    "list1 = [3, 9, 9, 4, 6, 7]\n",
    "tuple3 = tuple(list1)\n",
    "print(tuple3)"
   ]
  },
  {
   "cell_type": "markdown",
   "metadata": {
    "id": "vrxqD73SL5iF"
   },
   "source": [
    "#11. Write a program to calculate Median using List."
   ]
  },
  {
   "cell_type": "code",
   "execution_count": null,
   "metadata": {
    "colab": {
     "base_uri": "https://localhost:8080/"
    },
    "id": "S_vagAuzMCdg",
    "outputId": "b95951b1-f7d9-4f80-ff39-a262ca708dcb"
   },
   "outputs": [
    {
     "name": "stdout",
     "output_type": "stream",
     "text": [
      "Sorted List:  [1, 3, 4, 6, 7, 8, 9]\n",
      "Median:  6.0\n"
     ]
    }
   ],
   "source": [
    "list1 = [1, 6, 4, 3, 8, 7, 9]\n",
    "list1.sort()\n",
    "print(\"Sorted List: \", list1)\n",
    "mid = len(list1)//2\n",
    "print(\"Median: \", (list1[mid] + list1[-mid-1])/2)"
   ]
  },
  {
   "cell_type": "markdown",
   "metadata": {
    "id": "y6_C-tVXL_-S"
   },
   "source": [
    "#12. Write a program to calculate Mode using List."
   ]
  },
  {
   "cell_type": "code",
   "execution_count": null,
   "metadata": {
    "colab": {
     "base_uri": "https://localhost:8080/"
    },
    "id": "NVw8nZBjJma4",
    "outputId": "a1fe0b6b-57bb-4245-bc6c-abbc43525861"
   },
   "outputs": [
    {
     "name": "stdout",
     "output_type": "stream",
     "text": [
      "Sorted List:  [1, 1, 1, 2, 2, 2, 4, 8]\n",
      "[3, 3, 3, 3, 3, 3, 1, 1]\n",
      "Mode(s) is/are :{1, 2}\n"
     ]
    }
   ],
   "source": [
    "list1 = [1, 2, 4, 2, 8, 1, 1, 2]\n",
    "list1.sort()\n",
    "print(\"Sorted List: \", list1)\n",
    "list2 = []\n",
    "for i in range(len(list1)):\n",
    "  list2.append(list1.count(list1[i]))\n",
    "\n",
    "print(list2)\n",
    "dict1 = dict(zip(list1,list2))\n",
    "dict2 ={k for (k,v) in dict1.items() if v == max(list2) }\n",
    "  \n",
    "print(\"Mode(s) is/are :\" + str(dict2))"
   ]
  },
  {
   "cell_type": "markdown",
   "metadata": {
    "id": "BFcVbgMlMIow"
   },
   "source": [
    "#13. Write a program to calculate Mean using List.\n"
   ]
  },
  {
   "cell_type": "code",
   "execution_count": null,
   "metadata": {
    "colab": {
     "base_uri": "https://localhost:8080/"
    },
    "id": "lpFxkF0yFnlL",
    "outputId": "2be27a5d-50b9-423a-a4c6-7b9b792c0627"
   },
   "outputs": [
    {
     "name": "stdout",
     "output_type": "stream",
     "text": [
      "[0, 1, 2, 3, 4, 5, 6, 7, 8, 9]\n",
      "Mean :  4.5\n"
     ]
    }
   ],
   "source": [
    "list1 = list(range(0,10))\n",
    "print(list1)\n",
    "print(\"Mean : \", reduce(lambda x,y: x+y, list1)/len(list1))"
   ]
  },
  {
   "cell_type": "markdown",
   "metadata": {
    "id": "0QdkLQWGMLRg"
   },
   "source": [
    "#14. Write a program to demonstrate list creation, append entire list to another list\n"
   ]
  },
  {
   "cell_type": "code",
   "execution_count": null,
   "metadata": {
    "colab": {
     "base_uri": "https://localhost:8080/"
    },
    "id": "u-q2VeFZRvEr",
    "outputId": "eeb09363-6a31-4d44-d3c0-544cc084c3b7"
   },
   "outputs": [
    {
     "name": "stdout",
     "output_type": "stream",
     "text": [
      "[1, 4, 9, 1, 4, [3, 8, 0, 7, 5]]\n"
     ]
    }
   ],
   "source": [
    "list1 = [1, 4, 9, 1, 4]\n",
    "list2 = [3, 8, 0, 7, 5]\n",
    "list1.append(list2)\n",
    "print(list1)"
   ]
  },
  {
   "cell_type": "markdown",
   "metadata": {
    "id": "uzYBWukTMOJp"
   },
   "source": [
    "#15. Write a program to demonstrate slicing operations on the list\n",
    "\n"
   ]
  },
  {
   "cell_type": "code",
   "execution_count": null,
   "metadata": {
    "colab": {
     "base_uri": "https://localhost:8080/"
    },
    "id": "CVvnlDiOSniM",
    "outputId": "02bb0c86-5971-46a9-e3a1-384de5186a78"
   },
   "outputs": [
    {
     "name": "stdout",
     "output_type": "stream",
     "text": [
      "[8, 0, 7, 5]\n"
     ]
    }
   ],
   "source": [
    "list2 = [3, 8, 0, 7, 5]\n",
    "x = slice(1,5)\n",
    "print(list2[x])"
   ]
  },
  {
   "cell_type": "markdown",
   "metadata": {
    "id": "xFLVfNWDMQjp"
   },
   "source": [
    "#16. Write a program to find minimum, maximum in a list\n"
   ]
  },
  {
   "cell_type": "code",
   "execution_count": null,
   "metadata": {
    "colab": {
     "base_uri": "https://localhost:8080/"
    },
    "id": "n2pHu4aVR0uC",
    "outputId": "85e8de31-d623-49d4-f9dd-1b4d48958046"
   },
   "outputs": [
    {
     "name": "stdout",
     "output_type": "stream",
     "text": [
      "Maximum:  80\n",
      "Minimum:  0\n"
     ]
    }
   ],
   "source": [
    "from functools import reduce\n",
    "list1 = [1, 6, 80, 4, 34, 0, 8]\n",
    "print(\"Maximum: \", reduce(lambda x,y : x if(x > y) else y,list1))\n",
    "print(\"Minimum: \", reduce(lambda x,y : x if(x < y) else y,list1))"
   ]
  },
  {
   "cell_type": "markdown",
   "metadata": {
    "id": "xJlK6ytgMSZ4"
   },
   "source": [
    "#17. Write a program to search an element in a list, find the number of occurrences and the index of its first occurrence\n"
   ]
  },
  {
   "cell_type": "code",
   "execution_count": null,
   "metadata": {
    "colab": {
     "base_uri": "https://localhost:8080/"
    },
    "id": "guW58YyeSxIJ",
    "outputId": "e5716eea-1501-48a1-c6e5-fa7de06ce9d8"
   },
   "outputs": [
    {
     "name": "stdout",
     "output_type": "stream",
     "text": [
      "Enter the number to search: 6\n",
      "Index of First Ocuurence:=  1\n",
      "Total Number of Occurence:  3\n"
     ]
    }
   ],
   "source": [
    "x = int(input(\"Enter the number to search: \"))\n",
    "list1 = [1, 6, 80, 4, 34, 0, 8, 12, 78, 22, 22, 90, 1, 6, 4, 6]\n",
    "print(\"Index of First Ocuurence:= \", list1.index(x))\n",
    "print(\"Total Number of Occurence: \", len(list(filter(lambda s: s== x, list1))))"
   ]
  },
  {
   "cell_type": "markdown",
   "metadata": {
    "id": "4vKRhhMvMVzv"
   },
   "source": [
    "#18. Write a program to create a 2D list\n"
   ]
  },
  {
   "cell_type": "code",
   "execution_count": null,
   "metadata": {
    "colab": {
     "base_uri": "https://localhost:8080/"
    },
    "id": "ZduxaX-uyVOH",
    "outputId": "e12f9091-4cc3-4fe8-f2f6-c3412d9f623e"
   },
   "outputs": [
    {
     "name": "stdout",
     "output_type": "stream",
     "text": [
      "[[1, 2, 3], ['apple', 'banana', 'tickle'], [2.9, 7.584, 20.7561]]\n"
     ]
    }
   ],
   "source": [
    "list1 = [[1,2 ,3],['apple','banana','tickle'],[2.9, 7.584, 20.7561]]\n",
    "print(list1)"
   ]
  },
  {
   "cell_type": "markdown",
   "metadata": {
    "id": "QLOhOEzKMZLp"
   },
   "source": [
    "#19. Write a program to iterate over a 2D list in different ways\n"
   ]
  },
  {
   "cell_type": "code",
   "execution_count": null,
   "metadata": {
    "colab": {
     "base_uri": "https://localhost:8080/"
    },
    "id": "Z4s3f2aT07GP",
    "outputId": "d0180be8-2b4f-4063-d1a1-9ba7b04f5d41"
   },
   "outputs": [
    {
     "name": "stdout",
     "output_type": "stream",
     "text": [
      "[[1, 2, 3], ['apple', 'banana', 'tickle'], [2.9, 7.584, 20.7561]]\n",
      "1\n",
      "2\n",
      "3\n",
      "apple\n",
      "banana\n",
      "tickle\n",
      "2.9\n",
      "7.584\n",
      "20.7561\n"
     ]
    }
   ],
   "source": [
    "list1 = [[1,2 ,3],['apple','banana','tickle'],[2.9, 7.584, 20.7561]]\n",
    "print(list1)\n",
    "for item in list1:\n",
    "  for j in item:\n",
    "    print(j)\n"
   ]
  },
  {
   "cell_type": "code",
   "execution_count": null,
   "metadata": {
    "colab": {
     "base_uri": "https://localhost:8080/"
    },
    "id": "78HnzWOU1QAQ",
    "outputId": "dd0228fd-9865-47d2-8883-1ab206d8d4ba"
   },
   "outputs": [
    {
     "name": "stdout",
     "output_type": "stream",
     "text": [
      "1\n",
      "2\n",
      "3\n",
      "apple\n",
      "banana\n",
      "tickle\n",
      "2.9\n",
      "7.584\n",
      "20.7561\n"
     ]
    }
   ],
   "source": [
    "for i in range(len(list1)):\n",
    "  for j in range(len(list1[i])):\n",
    "    print(list1[i][j])"
   ]
  },
  {
   "cell_type": "markdown",
   "metadata": {
    "id": "rVAzkpVCMbUJ"
   },
   "source": [
    "#20. Write a program to perform spilt and join operation on a list."
   ]
  },
  {
   "cell_type": "code",
   "execution_count": null,
   "metadata": {
    "colab": {
     "base_uri": "https://localhost:8080/"
    },
    "id": "Vmx1r4sC3rTW",
    "outputId": "448e5e51-1e11-4308-d17c-8d1a5732885e"
   },
   "outputs": [
    {
     "name": "stdout",
     "output_type": "stream",
     "text": [
      "[3, 8, 0] \n",
      " [7, 5]\n"
     ]
    }
   ],
   "source": [
    "list1 = [3, 8, 0, 7, 5]\n",
    "list2 = list1[0:3]\n",
    "list3 = list1[3:]\n",
    "print(list2,'\\n',list3)"
   ]
  },
  {
   "cell_type": "code",
   "execution_count": null,
   "metadata": {
    "colab": {
     "base_uri": "https://localhost:8080/"
    },
    "id": "ikB7w9Bg4Tff",
    "outputId": "0b6e455f-e83c-47fd-dfe8-f4434e45bde1"
   },
   "outputs": [
    {
     "name": "stdout",
     "output_type": "stream",
     "text": [
      "[3, 8, 0, 7, 5]\n"
     ]
    }
   ],
   "source": [
    "list2.extend(list3)\n",
    "print(list2)"
   ]
  }
 ],
 "metadata": {
  "colab": {
   "collapsed_sections": [
    "ZDn5cvyCLkJ_",
    "nk-CIkKjLpkl"
   ],
   "name": "Assn2_Anil_Kumar_Meena_21-24-03.ipynb",
   "provenance": []
  },
  "kernelspec": {
   "display_name": "Python 3",
   "language": "python",
   "name": "python3"
  },
  "language_info": {
   "codemirror_mode": {
    "name": "ipython",
    "version": 3
   },
   "file_extension": ".py",
   "mimetype": "text/x-python",
   "name": "python",
   "nbconvert_exporter": "python",
   "pygments_lexer": "ipython3",
   "version": "3.8.8"
  }
 },
 "nbformat": 4,
 "nbformat_minor": 1
}
